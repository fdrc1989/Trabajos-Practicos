{
 "cells": [
  {
   "cell_type": "code",
   "execution_count": 1,
   "metadata": {},
   "outputs": [],
   "source": [
    "import pandas as pd\n",
    "import numpy as np\n"
   ]
  },
  {
   "cell_type": "code",
   "execution_count": 17,
   "metadata": {},
   "outputs": [],
   "source": [
    "data_location = \"../TP1/properati.csv\"\n",
    "data = pd.read_csv(data_location, sep=\",\")\n",
    "#print(data.dtypes)\n",
    "#data.head(20)"
   ]
  },
  {
   "cell_type": "code",
   "execution_count": 14,
   "metadata": {},
   "outputs": [
    {
     "name": "stdout",
     "output_type": "stream",
     "text": [
      "(121220, 26)\n"
     ]
    }
   ],
   "source": [
    "print(data.shape)\n",
    "print(data.)"
   ]
  },
  {
   "cell_type": "markdown",
   "metadata": {},
   "source": [
    "Tipos de la columna:\n",
    "\n",
    ".Operación del aviso (sell, rent)\n",
    "\n",
    ".Tipo de la propiedad (house, apartment, ph)\n",
    "\n",
    ".Nombre del lugar\n",
    "\n",
    ".Nombre del lugar + nombre de sus ‘padres’\n",
    "\n",
    "\n",
    "\n",
    "Fecha de creación\n",
    "\n",
    "\n",
    "\n",
    "\n",
    "ID de geonames del lugar (si está disponible)\n",
    "\n",
    "Latitud,Longitud\n",
    "\n",
    "Precio original del aviso\n",
    "\n",
    "Moneda original del aviso (ARS, USD)\n",
    "\n",
    "Precio del aviso en moneda local (ARS)\n",
    "\n",
    "Precio aproximado en USD\n",
    "\n",
    "Superficie en m2\n",
    "\n",
    "Superficie cubierta en m2\n",
    "\n",
    "Precio en USD/m2\n",
    "\n",
    "Precio por m2\n",
    "\n",
    "N° de piso, si corresponde\n",
    "\n",
    "Ambientes\n",
    "\n",
    "URL en Properati\n",
    "\n",
    "Descripción\n",
    "\n",
    "Título\n",
    "\n",
    "URL de un thumbnail de la primer \n"
   ]
  },
  {
   "cell_type": "code",
   "execution_count": 15,
   "metadata": {},
   "outputs": [
    {
     "name": "stdout",
     "output_type": "stream",
     "text": [
      "Unnamed: 0                      int64\n",
      "operation                      object\n",
      "property_type                  object\n",
      "place_name                     object\n",
      "place_with_parent_names        object\n",
      "country_name                   object\n",
      "state_name                     object\n",
      "geonames_id                   float64\n",
      "lat-lon                        object\n",
      "lat                           float64\n",
      "lon                           float64\n",
      "price                         float64\n",
      "currency                       object\n",
      "price_aprox_local_currency    float64\n",
      "price_aprox_usd               float64\n",
      "surface_total_in_m2           float64\n",
      "surface_covered_in_m2         float64\n",
      "price_usd_per_m2              float64\n",
      "price_per_m2                  float64\n",
      "floor                         float64\n",
      "rooms                         float64\n",
      "expenses                      float64\n",
      "properati_url                  object\n",
      "description                    object\n",
      "title                          object\n",
      "image_thumbnail                object\n",
      "dtype: object\n"
     ]
    }
   ],
   "source": [
    "print(data.dtypes)"
   ]
  },
  {
   "cell_type": "code",
   "execution_count": 22,
   "metadata": {},
   "outputs": [
    {
     "name": "stdout",
     "output_type": "stream",
     "text": [
      "Unnamed: 0                         0\n",
      "operation                          0\n",
      "property_type                      0\n",
      "place_name                        23\n",
      "place_with_parent_names            0\n",
      "country_name                       0\n",
      "state_name                         0\n",
      "geonames_id                    18717\n",
      "lat-lon                        51550\n",
      "lat                            51550\n",
      "lon                            51550\n",
      "price                          20410\n",
      "currency                       20411\n",
      "price_aprox_local_currency     20410\n",
      "price_aprox_usd                20410\n",
      "surface_total_in_m2            39328\n",
      "surface_covered_in_m2          19907\n",
      "price_usd_per_m2               52603\n",
      "price_per_m2                   33562\n",
      "floor                         113321\n",
      "rooms                          73830\n",
      "expenses                      106958\n",
      "properati_url                      0\n",
      "description                        2\n",
      "title                              0\n",
      "image_thumbnail                 3112\n",
      "dtype: int64\n"
     ]
    }
   ],
   "source": [
    "nullresult=data.isnull()\n",
    "cantnull=nullresult.sum()\n",
    "print(cantnull)"
   ]
  },
  {
   "cell_type": "code",
   "execution_count": 23,
   "metadata": {},
   "outputs": [
    {
     "name": "stdout",
     "output_type": "stream",
     "text": [
      "Unnamed: 0                     0.000000\n",
      "operation                      0.000000\n",
      "property_type                  0.000000\n",
      "place_name                     0.018974\n",
      "place_with_parent_names        0.000000\n",
      "country_name                   0.000000\n",
      "state_name                     0.000000\n",
      "geonames_id                   15.440521\n",
      "lat-lon                       42.525986\n",
      "lat                           42.525986\n",
      "lon                           42.525986\n",
      "price                         16.837156\n",
      "currency                      16.837981\n",
      "price_aprox_local_currency    16.837156\n",
      "price_aprox_usd               16.837156\n",
      "surface_total_in_m2           32.443491\n",
      "surface_covered_in_m2         16.422208\n",
      "price_usd_per_m2              43.394654\n",
      "price_per_m2                  27.686850\n",
      "floor                         93.483749\n",
      "rooms                         60.905791\n",
      "expenses                      88.234615\n",
      "properati_url                  0.000000\n",
      "description                    0.001650\n",
      "title                          0.000000\n",
      "image_thumbnail                2.567233\n",
      "dtype: float64\n"
     ]
    }
   ],
   "source": [
    "cant_registros = data.shape[0]\n",
    "porc_nulos_por_campo = 100 * cantnull / cant_registros\n",
    "print(porc_nulos_por_campo)\n",
    "\n"
   ]
  },
  {
   "cell_type": "code",
   "execution_count": 28,
   "metadata": {},
   "outputs": [
    {
     "data": {
      "text/html": [
       "<div>\n",
       "<style scoped>\n",
       "    .dataframe tbody tr th:only-of-type {\n",
       "        vertical-align: middle;\n",
       "    }\n",
       "\n",
       "    .dataframe tbody tr th {\n",
       "        vertical-align: top;\n",
       "    }\n",
       "\n",
       "    .dataframe thead th {\n",
       "        text-align: right;\n",
       "    }\n",
       "</style>\n",
       "<table border=\"1\" class=\"dataframe\">\n",
       "  <thead>\n",
       "    <tr style=\"text-align: right;\">\n",
       "      <th></th>\n",
       "      <th>Unnamed: 0</th>\n",
       "      <th>operation</th>\n",
       "      <th>property_type</th>\n",
       "      <th>place_name</th>\n",
       "      <th>place_with_parent_names</th>\n",
       "      <th>country_name</th>\n",
       "      <th>state_name</th>\n",
       "      <th>geonames_id</th>\n",
       "      <th>lat-lon</th>\n",
       "      <th>lat</th>\n",
       "      <th>...</th>\n",
       "      <th>surface_covered_in_m2</th>\n",
       "      <th>price_usd_per_m2</th>\n",
       "      <th>price_per_m2</th>\n",
       "      <th>floor</th>\n",
       "      <th>rooms</th>\n",
       "      <th>expenses</th>\n",
       "      <th>properati_url</th>\n",
       "      <th>description</th>\n",
       "      <th>title</th>\n",
       "      <th>image_thumbnail</th>\n",
       "    </tr>\n",
       "  </thead>\n",
       "  <tbody>\n",
       "    <tr>\n",
       "      <th>0</th>\n",
       "      <td>0</td>\n",
       "      <td>sell</td>\n",
       "      <td>PH</td>\n",
       "      <td>Mataderos</td>\n",
       "      <td>|Argentina|Capital Federal|Mataderos|</td>\n",
       "      <td>Argentina</td>\n",
       "      <td>Capital Federal</td>\n",
       "      <td>3430787.0</td>\n",
       "      <td>-34.6618237,-58.5088387</td>\n",
       "      <td>-34.661824</td>\n",
       "      <td>...</td>\n",
       "      <td>40.0</td>\n",
       "      <td>1127.272727</td>\n",
       "      <td>1550.0</td>\n",
       "      <td>NaN</td>\n",
       "      <td>NaN</td>\n",
       "      <td>NaN</td>\n",
       "      <td>http://www.properati.com.ar/15bo8_venta_ph_mat...</td>\n",
       "      <td>2 AMBIENTES TIPO CASA PLANTA BAJA POR PASILLO,...</td>\n",
       "      <td>2 AMB TIPO CASA SIN EXPENSAS EN PB</td>\n",
       "      <td>https://thumbs4.properati.com/8/BluUYiHJLhgIIK...</td>\n",
       "    </tr>\n",
       "  </tbody>\n",
       "</table>\n",
       "<p>1 rows × 26 columns</p>\n",
       "</div>"
      ],
      "text/plain": [
       "   Unnamed: 0 operation property_type place_name  \\\n",
       "0           0      sell            PH  Mataderos   \n",
       "\n",
       "                 place_with_parent_names country_name       state_name  \\\n",
       "0  |Argentina|Capital Federal|Mataderos|    Argentina  Capital Federal   \n",
       "\n",
       "   geonames_id                  lat-lon        lat  ...  \\\n",
       "0    3430787.0  -34.6618237,-58.5088387 -34.661824  ...   \n",
       "\n",
       "   surface_covered_in_m2  price_usd_per_m2 price_per_m2  floor  rooms  \\\n",
       "0                   40.0       1127.272727       1550.0    NaN    NaN   \n",
       "\n",
       "   expenses                                      properati_url  \\\n",
       "0       NaN  http://www.properati.com.ar/15bo8_venta_ph_mat...   \n",
       "\n",
       "                                         description  \\\n",
       "0  2 AMBIENTES TIPO CASA PLANTA BAJA POR PASILLO,...   \n",
       "\n",
       "                                title  \\\n",
       "0  2 AMB TIPO CASA SIN EXPENSAS EN PB   \n",
       "\n",
       "                                     image_thumbnail  \n",
       "0  https://thumbs4.properati.com/8/BluUYiHJLhgIIK...  \n",
       "\n",
       "[1 rows x 26 columns]"
      ]
     },
     "execution_count": 28,
     "metadata": {},
     "output_type": "execute_result"
    }
   ],
   "source": [
    "data.head(1)"
   ]
  },
  {
   "cell_type": "code",
   "execution_count": null,
   "metadata": {},
   "outputs": [],
   "source": []
  }
 ],
 "metadata": {
  "kernelspec": {
   "display_name": "Python 3",
   "language": "python",
   "name": "python3"
  },
  "language_info": {
   "codemirror_mode": {
    "name": "ipython",
    "version": 3
   },
   "file_extension": ".py",
   "mimetype": "text/x-python",
   "name": "python",
   "nbconvert_exporter": "python",
   "pygments_lexer": "ipython3",
   "version": "3.7.9"
  }
 },
 "nbformat": 4,
 "nbformat_minor": 4
}
